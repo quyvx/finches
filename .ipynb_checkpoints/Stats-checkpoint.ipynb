{
 "cells": [
  {
   "cell_type": "markdown",
   "metadata": {},
   "source": [
    "### Import libraries"
   ]
  },
  {
   "cell_type": "code",
   "execution_count": 65,
   "metadata": {},
   "outputs": [],
   "source": [
    "import pandas as pd\n",
    "import numpy as np\n",
    "import matplotlib.pyplot as plt\n",
    "import os\n",
    "import seaborn as sns\n",
    "import re\n",
    "\n",
    "% matplotlib inline\n",
    "plt.style.use('seaborn')"
   ]
  },
  {
   "cell_type": "markdown",
   "metadata": {},
   "source": [
    "### Load data"
   ]
  },
  {
   "cell_type": "code",
   "execution_count": 66,
   "metadata": {},
   "outputs": [],
   "source": [
    "def load_data(file_list):\n",
    "    # Initialise\n",
    "    data_list = []\n",
    "    \n",
    "    for file_name in file_list:\n",
    "        # Read csv\n",
    "        frame = pd.read_csv(file_name, index_col = 0)\n",
    "        \n",
    "        # Get year from file name\n",
    "        frame['year'] = int(re.split(r'[., _]', file_name)[2])\n",
    "        \n",
    "        # Store to list\n",
    "        data_list.append(frame)\n",
    "        \n",
    "    return pd.concat(data_list)"
   ]
  },
  {
   "cell_type": "code",
   "execution_count": 67,
   "metadata": {},
   "outputs": [],
   "source": [
    "df = load_data(file_list = ['finch_beaks_1975.csv', 'finch_beaks_2012.csv'])"
   ]
  },
  {
   "cell_type": "code",
   "execution_count": 68,
   "metadata": {},
   "outputs": [
    {
     "data": {
      "text/html": [
       "<div>\n",
       "<style scoped>\n",
       "    .dataframe tbody tr th:only-of-type {\n",
       "        vertical-align: middle;\n",
       "    }\n",
       "\n",
       "    .dataframe tbody tr th {\n",
       "        vertical-align: top;\n",
       "    }\n",
       "\n",
       "    .dataframe thead th {\n",
       "        text-align: right;\n",
       "    }\n",
       "</style>\n",
       "<table border=\"1\" class=\"dataframe\">\n",
       "  <thead>\n",
       "    <tr style=\"text-align: right;\">\n",
       "      <th></th>\n",
       "      <th>band</th>\n",
       "      <th>species</th>\n",
       "      <th>blength</th>\n",
       "      <th>bdepth</th>\n",
       "      <th>year</th>\n",
       "    </tr>\n",
       "  </thead>\n",
       "  <tbody>\n",
       "    <tr>\n",
       "      <th>0</th>\n",
       "      <td>2</td>\n",
       "      <td>fortis</td>\n",
       "      <td>9.4</td>\n",
       "      <td>8.0</td>\n",
       "      <td>1975</td>\n",
       "    </tr>\n",
       "    <tr>\n",
       "      <th>1</th>\n",
       "      <td>9</td>\n",
       "      <td>fortis</td>\n",
       "      <td>9.2</td>\n",
       "      <td>8.3</td>\n",
       "      <td>1975</td>\n",
       "    </tr>\n",
       "    <tr>\n",
       "      <th>2</th>\n",
       "      <td>12</td>\n",
       "      <td>fortis</td>\n",
       "      <td>9.5</td>\n",
       "      <td>7.5</td>\n",
       "      <td>1975</td>\n",
       "    </tr>\n",
       "    <tr>\n",
       "      <th>3</th>\n",
       "      <td>15</td>\n",
       "      <td>fortis</td>\n",
       "      <td>9.5</td>\n",
       "      <td>8.0</td>\n",
       "      <td>1975</td>\n",
       "    </tr>\n",
       "    <tr>\n",
       "      <th>4</th>\n",
       "      <td>305</td>\n",
       "      <td>fortis</td>\n",
       "      <td>11.5</td>\n",
       "      <td>9.9</td>\n",
       "      <td>1975</td>\n",
       "    </tr>\n",
       "  </tbody>\n",
       "</table>\n",
       "</div>"
      ],
      "text/plain": [
       "   band species  blength  bdepth  year\n",
       "0     2  fortis      9.4     8.0  1975\n",
       "1     9  fortis      9.2     8.3  1975\n",
       "2    12  fortis      9.5     7.5  1975\n",
       "3    15  fortis      9.5     8.0  1975\n",
       "4   305  fortis     11.5     9.9  1975"
      ]
     },
     "execution_count": 68,
     "metadata": {},
     "output_type": "execute_result"
    }
   ],
   "source": [
    "df.head()"
   ]
  },
  {
   "cell_type": "markdown",
   "metadata": {},
   "source": [
    "## How the shape of finch beaks have changed overtime\n",
    "The Grants have noticed some changes of beak geometry depending on the types of seeds available on the island, and they also noticed that there was some interbreeding with another major species on Daphne Major, Geospiza fortis. These effects can lead to changes in the species over time."
   ]
  },
  {
   "cell_type": "markdown",
   "metadata": {},
   "source": [
    "### Quick EDA"
   ]
  },
  {
   "cell_type": "code",
   "execution_count": 70,
   "metadata": {},
   "outputs": [
    {
     "data": {
      "image/png": "[encoded data removed]",
      "text/plain": [
       "<Figure size 576x396 with 1 Axes>"
      ]
     },
     "metadata": {},
     "output_type": "display_data"
    }
   ],
   "source": [
    "# Create bee swarm plot\n",
    "plt.figure()\n",
    "sns.swarmplot(data=df, x='year', y='bdepth')\n",
    "plt.title('Beak depth in 1975 and 2012')\n",
    "plt.xlabel('Year')\n",
    "plt.ylabel('Beak depth (mm)')\n",
    "plt.show()"
   ]
  },
  {
   "cell_type": "markdown",
   "metadata": {},
   "source": [
    "It is kind of hard to see if there is a clear difference between the 1975 and 2012 data set. The 2 distributions appears to have a very similar mean and variance. \n",
    "\n",
    "Let's plot their empirical cumulative distributions"
   ]
  },
  {
   "cell_type": "code",
   "execution_count": 77,
   "metadata": {},
   "outputs": [],
   "source": [
    "def ecdf(array):\n",
    "    \"\"\" Return the x and y for plotting empirical cumulative distribution of an array \"\"\"\n",
    "    x = np.sort(array)\n",
    "    y = np.arange(1, len(array)+1)/float(len(array))\n",
    "    return x,y\n",
    "\n",
    "def get_beak_depth(frame, year):\n",
    "    \"\"\" Get beak depths recorded on a year \"\"\"\n",
    "    return df.loc[df['year'] == year, 'bdepth']"
   ]
  },
  {
   "cell_type": "code",
   "execution_count": 98,
   "metadata": {},
   "outputs": [
    {
     "data": {
      "image/png": "[encoded data removed]",
      "text/plain": [
       "<Figure size 576x396 with 1 Axes>"
      ]
     },
     "metadata": {},
     "output_type": "display_data"
    }
   ],
   "source": [
    "# Get beak depths:\n",
    "bd_1975 = get_beak_depth(df, 1975) \n",
    "bd_2012 = get_beak_depth(df, 2012)\n",
    "\n",
    "# Could've written everything twice instead of getting the beak depths again, but not today\n",
    "for year in [1975, 2012]:\n",
    "    # Get beak depth for that year\n",
    "    bd = get_beak_depth(df, year)\n",
    "    \n",
    "    # Compute x and y for ecdf\n",
    "    x, y = ecdf(bd)\n",
    "    \n",
    "    # Plot\n",
    "    plt.scatter(x, y, s = 5, label = year)\n",
    "\n",
    "# Polish\n",
    "plt.title('ECDF for 1975 and 2012 data')\n",
    "plt.xlabel('beak depth (mm)')\n",
    "plt.ylabel('prob')\n",
    "plt.legend()\n",
    "plt.show()"
   ]
  },
  {
   "cell_type": "markdown",
   "metadata": {},
   "source": [
    "Visually, it appears that the records in 1975 have higher mean and variance. Let's actually compute them."
   ]
  },
  {
   "cell_type": "code",
   "execution_count": 100,
   "metadata": {},
   "outputs": [
    {
     "name": "stdout",
     "output_type": "stream",
     "text": [
      "Mean for 1975 : 9.126\n",
      "Standard deviation for 1975 : 0.7079\n",
      "\n",
      "Mean for 2012 : 8.9028\n",
      "Standard deviation for 2012 : 0.756\n",
      "\n"
     ]
    }
   ],
   "source": [
    "for bd, year in zip([bd_1975, bd_2012],[1975, 2012]):  \n",
    "    # Compute mean\n",
    "    print('Mean for {} : {}'.format(year, np.round(np.mean(bd),4)))\n",
    "    \n",
    "    # Compute standard deviation\n",
    "    print('Standard deviation for {} : {}'.format(year, np.round(np.std(bd),4)))\n",
    "    print('')"
   ]
  },
  {
   "cell_type": "markdown",
   "metadata": {},
   "source": [
    "We can see the difference in the means and standard deviations of these 2 years, but they're quite close! How can we be sure about the significance of this difference? Let's answer this question by parameter estimation."
   ]
  },
  {
   "cell_type": "markdown",
   "metadata": {},
   "source": [
    "### Parameter estimation"
   ]
  },
  {
   "cell_type": "markdown",
   "metadata": {},
   "source": [
    "Let's estimate the difference of the mean beak depth of the G. scandens samples from 1975 and 2012 and report a 95% confidence interval."
   ]
  },
  {
   "cell_type": "code",
   "execution_count": 108,
   "metadata": {},
   "outputs": [],
   "source": [
    "def draw_bs_reps(array, func, n_experiments = 1):\n",
    "    \"\"\" Draw bootstrap replicates \"\"\"\n",
    "    \n",
    "    def compute_sample_statistics(array, func):\n",
    "        \"\"\" Apply a function to a bootstrap replicates of a 1d array \"\"\"\n",
    "        return func(np.random.choice(array, size = len(array)))\n",
    "\n",
    "    # Initialize an empty array to store bootstrap replicates\n",
    "    bs_replicates = np.empty(n_experiments)\n",
    "\n",
    "    # Sampling\n",
    "    for i in range(n_experiments):\n",
    "        bs_replicates[i] = compute_sample_statistics(array, func)\n",
    "\n",
    "    return bs_replicates"
   ]
  },
  {
   "cell_type": "code",
   "execution_count": 114,
   "metadata": {},
   "outputs": [
    {
     "name": "stdout",
     "output_type": "stream",
     "text": [
      "Mean difference = -0.22313275434242108 mm\n",
      "95% confidence interval = [-0.34151    -0.10469665] mm\n"
     ]
    }
   ],
   "source": [
    "# Compute the difference between the 2 means\n",
    "mean_diff = np.mean(bd_2012) - np.mean(bd_1975) \n",
    "\n",
    "# Draw bootstrap replicates\n",
    "bs_replicates_1975 = draw_bs_reps(bd_1975, np.mean, 10000)\n",
    "bs_replicates_2012 = draw_bs_reps(bd_2012, np.mean, 10000)\n",
    "\n",
    "# Compute samples of difference of means: bs_diff_replicates\n",
    "bs_diff_replicates = bs_replicates_2012 - bs_replicates_1975\n",
    "\n",
    "# Compute 95% confidence interval: conf_int\n",
    "conf_int = np.percentile(bs_diff_replicates, [2.5, 97.5])\n",
    "\n",
    "# Print the results\n",
    "print('Mean difference = {} mm'.format(mean_diff))\n",
    "print('95% confidence interval = {} mm'.format(conf_int))"
   ]
  },
  {
   "cell_type": "markdown",
   "metadata": {},
   "source": [
    "There it is. The beaks were deeper in 1975. Let's do a hypothesis test to see if this effect is due to random chance or not."
   ]
  },
  {
   "cell_type": "markdown",
   "metadata": {},
   "source": [
    "### Hypothesis testing"
   ]
  },
  {
   "cell_type": "markdown",
   "metadata": {},
   "source": [
    "The null hypothesis and the alternative hypothesis are as follow\n",
    "- $H_0$: The average beak depths in 1975 and 2012 are equal\n",
    "- $H_1$: The average beak depths in 1975 and 2012 are not equal"
   ]
  },
  {
   "cell_type": "code",
   "execution_count": 118,
   "metadata": {},
   "outputs": [
    {
     "name": "stdout",
     "output_type": "stream",
     "text": [
      "p-value: 1.0\n"
     ]
    }
   ],
   "source": [
    "# Shift the mean of the 2 distributions to zero\n",
    "bd_1975_shifted = bd_1975 - np.mean(bd_1975)\n",
    "bd_2012_shifted = bd_2012 - np.mean(bd_2012)\n",
    "\n",
    "# Draw bootstrap replicates\n",
    "bs_replicates_1975 = draw_bs_reps(bd_1975_shifted, np.mean, 10000)\n",
    "bs_replicates_2012 = draw_bs_reps(bd_2012_shifted, np.mean, 10000)\n",
    "\n",
    "# Compute mean difference of the 2 sampled distribution\n",
    "bs_diff_replicates = bs_replicates_2012 - bs_replicates_1975\n",
    "\n",
    "# Compute p-value\n",
    "p_value = np.sum(bs_diff_replicates >= mean_diff) / len(bs_diff_replicates)\n",
    "\n",
    "# Print p-value\n",
    "print('p-value: {}'.format(p_value))\n"
   ]
  },
  {
   "cell_type": "markdown",
   "metadata": {},
   "source": [
    "At a confidence level of 95%, the p-value should be less than 0.05 to"
   ]
  },
  {
   "cell_type": "code",
   "execution_count": null,
   "metadata": {},
   "outputs": [],
   "source": []
  }
 ],
 "metadata": {
  "kernelspec": {
   "display_name": "Python 3",
   "language": "python",
   "name": "python3"
  },
  "language_info": {
   "codemirror_mode": {
    "name": "ipython",
    "version": 3
   },
   "file_extension": ".py",
   "mimetype": "text/x-python",
   "name": "python",
   "nbconvert_exporter": "python",
   "pygments_lexer": "ipython3",
   "version": "3.6.5"
  }
 },
 "nbformat": 4,
 "nbformat_minor": 2
}
